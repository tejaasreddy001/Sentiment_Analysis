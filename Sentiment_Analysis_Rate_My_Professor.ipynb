{
  "nbformat": 4,
  "nbformat_minor": 0,
  "metadata": {
    "colab": {
      "provenance": []
    },
    "kernelspec": {
      "name": "python3",
      "display_name": "Python 3"
    },
    "language_info": {
      "name": "python"
    },
    "gpuClass": "standard"
  },
  "cells": [
    {
      "cell_type": "markdown",
      "source": [
        "## **Downloading the data and required libraries**\n",
        "\n",
        "---\n",
        "\n"
      ],
      "metadata": {
        "id": "Urw-QDGdUAIR"
      }
    },
    {
      "cell_type": "markdown",
      "source": [
        "Below we started by installing spaCy.\n",
        "\n",
        "spaCy is a great library that can be used for Natural Language Processing, as you will see later below."
      ],
      "metadata": {
        "id": "1jhqdC7ZLBFi"
      }
    },
    {
      "cell_type": "code",
      "execution_count": null,
      "metadata": {
        "colab": {
          "base_uri": "https://localhost:8080/"
        },
        "id": "rL4K6sGhwyzy",
        "outputId": "b561a8b5-9da6-4760-a8b8-ccfc98763776"
      },
      "outputs": [
        {
          "output_type": "stream",
          "name": "stdout",
          "text": [
            "Looking in indexes: https://pypi.org/simple, https://us-python.pkg.dev/colab-wheels/public/simple/\n",
            "Requirement already satisfied: spacy in /usr/local/lib/python3.10/dist-packages (3.5.2)\n",
            "Requirement already satisfied: catalogue<2.1.0,>=2.0.6 in /usr/local/lib/python3.10/dist-packages (from spacy) (2.0.8)\n",
            "Requirement already satisfied: thinc<8.2.0,>=8.1.8 in /usr/local/lib/python3.10/dist-packages (from spacy) (8.1.9)\n",
            "Requirement already satisfied: packaging>=20.0 in /usr/local/lib/python3.10/dist-packages (from spacy) (23.1)\n",
            "Requirement already satisfied: wasabi<1.2.0,>=0.9.1 in /usr/local/lib/python3.10/dist-packages (from spacy) (1.1.1)\n",
            "Requirement already satisfied: setuptools in /usr/local/lib/python3.10/dist-packages (from spacy) (67.7.2)\n",
            "Requirement already satisfied: langcodes<4.0.0,>=3.2.0 in /usr/local/lib/python3.10/dist-packages (from spacy) (3.3.0)\n",
            "Requirement already satisfied: requests<3.0.0,>=2.13.0 in /usr/local/lib/python3.10/dist-packages (from spacy) (2.27.1)\n",
            "Requirement already satisfied: smart-open<7.0.0,>=5.2.1 in /usr/local/lib/python3.10/dist-packages (from spacy) (6.3.0)\n",
            "Requirement already satisfied: srsly<3.0.0,>=2.4.3 in /usr/local/lib/python3.10/dist-packages (from spacy) (2.4.6)\n",
            "Requirement already satisfied: typer<0.8.0,>=0.3.0 in /usr/local/lib/python3.10/dist-packages (from spacy) (0.7.0)\n",
            "Requirement already satisfied: pathy>=0.10.0 in /usr/local/lib/python3.10/dist-packages (from spacy) (0.10.1)\n",
            "Requirement already satisfied: spacy-legacy<3.1.0,>=3.0.11 in /usr/local/lib/python3.10/dist-packages (from spacy) (3.0.12)\n",
            "Requirement already satisfied: murmurhash<1.1.0,>=0.28.0 in /usr/local/lib/python3.10/dist-packages (from spacy) (1.0.9)\n",
            "Requirement already satisfied: preshed<3.1.0,>=3.0.2 in /usr/local/lib/python3.10/dist-packages (from spacy) (3.0.8)\n",
            "Requirement already satisfied: cymem<2.1.0,>=2.0.2 in /usr/local/lib/python3.10/dist-packages (from spacy) (2.0.7)\n",
            "Requirement already satisfied: jinja2 in /usr/local/lib/python3.10/dist-packages (from spacy) (3.1.2)\n",
            "Requirement already satisfied: pydantic!=1.8,!=1.8.1,<1.11.0,>=1.7.4 in /usr/local/lib/python3.10/dist-packages (from spacy) (1.10.7)\n",
            "Requirement already satisfied: tqdm<5.0.0,>=4.38.0 in /usr/local/lib/python3.10/dist-packages (from spacy) (4.65.0)\n",
            "Requirement already satisfied: numpy>=1.15.0 in /usr/local/lib/python3.10/dist-packages (from spacy) (1.22.4)\n",
            "Requirement already satisfied: spacy-loggers<2.0.0,>=1.0.0 in /usr/local/lib/python3.10/dist-packages (from spacy) (1.0.4)\n",
            "Requirement already satisfied: typing-extensions>=4.2.0 in /usr/local/lib/python3.10/dist-packages (from pydantic!=1.8,!=1.8.1,<1.11.0,>=1.7.4->spacy) (4.5.0)\n",
            "Requirement already satisfied: idna<4,>=2.5 in /usr/local/lib/python3.10/dist-packages (from requests<3.0.0,>=2.13.0->spacy) (3.4)\n",
            "Requirement already satisfied: charset-normalizer~=2.0.0 in /usr/local/lib/python3.10/dist-packages (from requests<3.0.0,>=2.13.0->spacy) (2.0.12)\n",
            "Requirement already satisfied: urllib3<1.27,>=1.21.1 in /usr/local/lib/python3.10/dist-packages (from requests<3.0.0,>=2.13.0->spacy) (1.26.15)\n",
            "Requirement already satisfied: certifi>=2017.4.17 in /usr/local/lib/python3.10/dist-packages (from requests<3.0.0,>=2.13.0->spacy) (2022.12.7)\n",
            "Requirement already satisfied: confection<1.0.0,>=0.0.1 in /usr/local/lib/python3.10/dist-packages (from thinc<8.2.0,>=8.1.8->spacy) (0.0.4)\n",
            "Requirement already satisfied: blis<0.8.0,>=0.7.8 in /usr/local/lib/python3.10/dist-packages (from thinc<8.2.0,>=8.1.8->spacy) (0.7.9)\n",
            "Requirement already satisfied: click<9.0.0,>=7.1.1 in /usr/local/lib/python3.10/dist-packages (from typer<0.8.0,>=0.3.0->spacy) (8.1.3)\n",
            "Requirement already satisfied: MarkupSafe>=2.0 in /usr/local/lib/python3.10/dist-packages (from jinja2->spacy) (2.1.2)\n"
          ]
        }
      ],
      "source": [
        "!pip install spacy"
      ]
    },
    {
      "cell_type": "markdown",
      "source": [
        "In the cell below, we decided to import all the necessary libraries all at once for cleanliness and better readability of further written code.\n"
      ],
      "metadata": {
        "id": "mLzu7T5PLGzr"
      }
    },
    {
      "cell_type": "code",
      "source": [
        "import pandas as pd\n",
        "import numpy as np\n",
        "import re\n",
        "import spacy\n",
        "from spacy.lang.en.stop_words import STOP_WORDS\n",
        "from numpy import array\n",
        "import tensorflow as tf\n",
        "from tensorflow.keras.preprocessing.text import one_hot, Tokenizer\n",
        "from tensorflow.keras.models import Sequential\n",
        "from tensorflow.keras.layers import Activation, Dropout, Dense, Flatten, GlobalMaxPooling1D, Embedding, Conv1D, LSTM\n",
        "from sklearn.model_selection import train_test_split\n",
        "from tensorflow.keras.preprocessing.sequence import pad_sequences"
      ],
      "metadata": {
        "id": "4-LQTLjj8t0M"
      },
      "execution_count": null,
      "outputs": []
    },
    {
      "cell_type": "markdown",
      "source": [
        "#**Re-Arrangement of Gathered Datasets**"
      ],
      "metadata": {
        "id": "-UNnM_YsKzMZ"
      }
    },
    {
      "cell_type": "markdown",
      "source": [
        "In the cell below, we are reading our necessary input and output sample data from the RateMyProfessor_Sample.csv and all_reviews.json file and creating a single dataframe."
      ],
      "metadata": {
        "id": "la42z7aeLKB7"
      }
    },
    {
      "cell_type": "code",
      "source": [
        "import pandas as pd\n",
        "df = pd.read_csv(\"/content/RateMyProfessor_Sample data.csv\",usecols=[\"student_star\",\"student_difficult\",\"comments\"])\n",
        "\n",
        "import pandas as pd\n",
        "import json\n",
        "\n",
        "# read the JSON file into a list of dictionaries\n",
        "with open('all_reviews.json', 'r') as f:\n",
        "    data_json = json.load(f)\n",
        "\n",
        "# select only the columns you need from the JSON data\n",
        "data_selected = []\n",
        "count = 0\n",
        "\n",
        "for inner_list in data_json:\n",
        "    for row in inner_list:\n",
        "        count += 1\n",
        "        data_selected.append({\n",
        "            'student_star': row['Quality'],\n",
        "            'student_difficult': row['Difficulty'],\n",
        "            'comments': row['Comment']\n",
        "        })\n",
        "\n",
        "# create a DataFrame with the selected columns\n",
        "df_json = pd.DataFrame(data_selected)\n",
        "\n",
        "# concatenate the two DataFrames to create a new DataFrame with the additional rows from the JSON file\n",
        "df_combined = pd.concat([df, df_json], ignore_index=True)\n",
        "\n",
        "df = df_combined"
      ],
      "metadata": {
        "id": "rmSFMaW08vBB"
      },
      "execution_count": null,
      "outputs": []
    },
    {
      "cell_type": "code",
      "source": [
        "# Convert the dataframe to a CSV file\n",
        "df.to_csv('output.csv',index=False)\n",
        "\n",
        "# Read the csv file and just fetch the required columns\n",
        "df = pd.read_csv(\"output.csv\",usecols=[\"student_star\",\"student_difficult\",\"comments\"])\n",
        "\n",
        "# Eliminate rows that are null\n",
        "if df.isnull().values.any():\n",
        "    df = df.dropna()\n",
        "\n",
        "print(df.shape)\n"
      ],
      "metadata": {
        "id": "OWIRGw1o8xuB",
        "colab": {
          "base_uri": "https://localhost:8080/"
        },
        "outputId": "5fa00759-6204-439a-b46c-f292e61331fb"
      },
      "execution_count": null,
      "outputs": [
        {
          "output_type": "stream",
          "name": "stdout",
          "text": [
            "(23360, 3)\n"
          ]
        }
      ]
    },
    {
      "cell_type": "code",
      "source": [
        "# shuffle the rows of the DataFrame using the sample() method\n",
        "df_shuffled = df.sample(frac=1, random_state=42)\n",
        "\n",
        "# reset the index of the shuffled DataFrame\n",
        "df_shuffled = df_shuffled.reset_index(drop=True)\n",
        "\n",
        "df = df_shuffled\n",
        "\n",
        "print(df.shape)"
      ],
      "metadata": {
        "id": "5pw-Emlw8zSh",
        "colab": {
          "base_uri": "https://localhost:8080/"
        },
        "outputId": "34ae9e8c-5fcf-4c30-e8ee-d8fe599a3032"
      },
      "execution_count": null,
      "outputs": [
        {
          "output_type": "stream",
          "name": "stdout",
          "text": [
            "(23360, 3)\n"
          ]
        }
      ]
    },
    {
      "cell_type": "markdown",
      "source": [
        "## **Data Augmentation:**\n",
        "\n",
        "---\n",
        "\n",
        "\n",
        "1.   We are Performing data augmentation on the available datasets which help to improve the model's ability to generalize to new, unseen data by exposing it to a wider variety of examples.\n",
        "2.   Additionally, it can address class imbalance issues and overcome the issue of limited data by creating new, but similar examples from existing data, thereby increasing the size of the dataset.\n",
        "3.   Overall, performing data augmentation on the available datasets can help to improve the performance and generalization ability of the RNN model for predicting the quality and difficulty scores of student comments.\n",
        "\n",
        "\n",
        "\n",
        "\n",
        "\n",
        "\n"
      ],
      "metadata": {
        "id": "396YbQwlUrZz"
      }
    },
    {
      "cell_type": "markdown",
      "source": [
        "The next 5 cells are used to prepare and import the necessary libraries for Data Augmentation."
      ],
      "metadata": {
        "id": "ZS9EYplzLQyD"
      }
    },
    {
      "cell_type": "code",
      "source": [
        "#cloning the NL Augmentor Library\n",
        "!git clone https://www.github.com/GEM-benchmark/NL-Augmenter"
      ],
      "metadata": {
        "id": "E4vsB7SSxEjZ",
        "colab": {
          "base_uri": "https://localhost:8080/"
        },
        "outputId": "eda619f4-fdb3-4d8f-9354-5ac8f3fb071a"
      },
      "execution_count": null,
      "outputs": [
        {
          "output_type": "stream",
          "name": "stdout",
          "text": [
            "Cloning into 'NL-Augmenter'...\n",
            "warning: redirecting to https://github.com/GEM-benchmark/NL-Augmenter.git/\n",
            "remote: Enumerating objects: 12857, done.\u001b[K\n",
            "remote: Counting objects: 100% (15/15), done.\u001b[K\n",
            "remote: Compressing objects: 100% (13/13), done.\u001b[K\n",
            "remote: Total 12857 (delta 2), reused 5 (delta 2), pack-reused 12842\u001b[K\n",
            "Receiving objects: 100% (12857/12857), 91.62 MiB | 10.77 MiB/s, done.\n",
            "Resolving deltas: 100% (8366/8366), done.\n",
            "Updating files: 100% (784/784), done.\n"
          ]
        }
      ]
    },
    {
      "cell_type": "code",
      "source": [
        "# Moving the data in the google colab local folder\n",
        "%cd /content/NL-Augmenter"
      ],
      "metadata": {
        "id": "WsZkXF-mxGPU",
        "colab": {
          "base_uri": "https://localhost:8080/"
        },
        "outputId": "432aaca2-9ee5-46ba-c550-29061e059830"
      },
      "execution_count": null,
      "outputs": [
        {
          "output_type": "stream",
          "name": "stdout",
          "text": [
            "/content/NL-Augmenter\n"
          ]
        }
      ]
    },
    {
      "cell_type": "code",
      "source": [
        "# Downloading the requirements for NL Augmentor\n",
        "!pip install -r /content/NL-Augmenter/requirements.txt --quiet\n",
        "!pip install https://github.com/explosion/spacy-models/releases/download/en_core_web_sm-3.0.0/en_core_web_sm-3.0.0.tar.gz"
      ],
      "metadata": {
        "id": "O6msiGhnxHmG",
        "colab": {
          "base_uri": "https://localhost:8080/"
        },
        "outputId": "b04761c5-b031-4a58-8977-a33a73938e87"
      },
      "execution_count": null,
      "outputs": [
        {
          "output_type": "stream",
          "name": "stdout",
          "text": [
            "\u001b[2K     \u001b[90m━━━━━━━━━━━━━━━━━━━━━━━━━━━━━━━━━━━━━━━━\u001b[0m \u001b[32m12.1/12.1 MB\u001b[0m \u001b[31m50.1 MB/s\u001b[0m eta \u001b[36m0:00:00\u001b[0m\n",
            "\u001b[?25h  Preparing metadata (setup.py) ... \u001b[?25l\u001b[?25hdone\n",
            "\u001b[2K     \u001b[90m━━━━━━━━━━━━━━━━━━━━━━━━━━━━━━━━━━━━━━━━\u001b[0m \u001b[32m7.0/7.0 MB\u001b[0m \u001b[31m11.4 MB/s\u001b[0m eta \u001b[36m0:00:00\u001b[0m\n",
            "\u001b[?25h  Installing build dependencies ... \u001b[?25l\u001b[?25hdone\n",
            "  Getting requirements to build wheel ... \u001b[?25l\u001b[?25hdone\n",
            "  Installing backend dependencies ... \u001b[?25l\u001b[?25hdone\n",
            "  Preparing metadata (pyproject.toml) ... \u001b[?25l\u001b[?25hdone\n",
            "\u001b[2K     \u001b[90m━━━━━━━━━━━━━━━━━━━━━━━━━━━━━━━━━━━━━━━\u001b[0m \u001b[32m101.6/101.6 kB\u001b[0m \u001b[31m8.7 MB/s\u001b[0m eta \u001b[36m0:00:00\u001b[0m\n",
            "\u001b[?25h  Preparing metadata (setup.py) ... \u001b[?25l\u001b[?25hdone\n",
            "\u001b[2K     \u001b[90m━━━━━━━━━━━━━━━━━━━━━━━━━━━━━━━━━━━━━━\u001b[0m \u001b[32m280.6/280.6 kB\u001b[0m \u001b[31m21.9 MB/s\u001b[0m eta \u001b[36m0:00:00\u001b[0m\n",
            "\u001b[2K     \u001b[90m━━━━━━━━━━━━━━━━━━━━━━━━━━━━━━━━━━━━━━\u001b[0m \u001b[32m234.9/234.9 kB\u001b[0m \u001b[31m20.4 MB/s\u001b[0m eta \u001b[36m0:00:00\u001b[0m\n",
            "\u001b[2K     \u001b[90m━━━━━━━━━━━━━━━━━━━━━━━━━━━━━━━━━━━━━━━━\u001b[0m \u001b[32m2.2/2.2 MB\u001b[0m \u001b[31m62.3 MB/s\u001b[0m eta \u001b[36m0:00:00\u001b[0m\n",
            "\u001b[2K     \u001b[90m━━━━━━━━━━━━━━━━━━━━━━━━━━━━━━━━━━━━━━━━\u001b[0m \u001b[32m54.5/54.5 kB\u001b[0m \u001b[31m4.4 MB/s\u001b[0m eta \u001b[36m0:00:00\u001b[0m\n",
            "\u001b[2K     \u001b[90m━━━━━━━━━━━━━━━━━━━━━━━━━━━━━━━━━━━━━━━━\u001b[0m \u001b[32m43.6/43.6 kB\u001b[0m \u001b[31m4.1 MB/s\u001b[0m eta \u001b[36m0:00:00\u001b[0m\n",
            "\u001b[?25h  Preparing metadata (setup.py) ... \u001b[?25l\u001b[?25hdone\n",
            "\u001b[2K     \u001b[90m━━━━━━━━━━━━━━━━━━━━━━━━━━━━━━━━━━━━━━\u001b[0m \u001b[32m508.7/508.7 kB\u001b[0m \u001b[31m34.9 MB/s\u001b[0m eta \u001b[36m0:00:00\u001b[0m\n",
            "\u001b[?25h  Preparing metadata (setup.py) ... \u001b[?25l\u001b[?25hdone\n",
            "\u001b[2K     \u001b[90m━━━━━━━━━━━━━━━━━━━━━━━━━━━━━━━━━━━━━━\u001b[0m \u001b[32m138.9/138.9 kB\u001b[0m \u001b[31m14.8 MB/s\u001b[0m eta \u001b[36m0:00:00\u001b[0m\n",
            "\u001b[2K     \u001b[90m━━━━━━━━━━━━━━━━━━━━━━━━━━━━━━━━━━━━━━\u001b[0m \u001b[32m190.7/190.7 kB\u001b[0m \u001b[31m20.1 MB/s\u001b[0m eta \u001b[36m0:00:00\u001b[0m\n",
            "\u001b[2K     \u001b[90m━━━━━━━━━━━━━━━━━━━━━━━━━━━━━━━━━━━━━━━━\u001b[0m \u001b[32m73.1/73.1 kB\u001b[0m \u001b[31m8.5 MB/s\u001b[0m eta \u001b[36m0:00:00\u001b[0m\n",
            "\u001b[2K     \u001b[90m━━━━━━━━━━━━━━━━━━━━━━━━━━━━━━━━━━━━━━\u001b[0m \u001b[32m105.6/105.6 kB\u001b[0m \u001b[31m10.5 MB/s\u001b[0m eta \u001b[36m0:00:00\u001b[0m\n",
            "\u001b[2K     \u001b[90m━━━━━━━━━━━━━━━━━━━━━━━━━━━━━━━━━━━━━━\u001b[0m \u001b[32m952.6/952.6 kB\u001b[0m \u001b[31m36.1 MB/s\u001b[0m eta \u001b[36m0:00:00\u001b[0m\n",
            "\u001b[2K     \u001b[90m━━━━━━━━━━━━━━━━━━━━━━━━━━━━━━━━━━━━━━\u001b[0m \u001b[32m110.5/110.5 kB\u001b[0m \u001b[31m10.1 MB/s\u001b[0m eta \u001b[36m0:00:00\u001b[0m\n",
            "\u001b[2K     \u001b[90m━━━━━━━━━━━━━━━━━━━━━━━━━━━━━━━━━━━━━━━━\u001b[0m \u001b[32m22.3/22.3 MB\u001b[0m \u001b[31m44.3 MB/s\u001b[0m eta \u001b[36m0:00:00\u001b[0m\n",
            "\u001b[?25h  Preparing metadata (setup.py) ... \u001b[?25l\u001b[?25hdone\n",
            "\u001b[2K     \u001b[90m━━━━━━━━━━━━━━━━━━━━━━━━━━━━━━━━━━━━━━\u001b[0m \u001b[32m167.4/167.4 kB\u001b[0m \u001b[31m14.5 MB/s\u001b[0m eta \u001b[36m0:00:00\u001b[0m\n",
            "\u001b[?25h  Preparing metadata (setup.py) ... \u001b[?25l\u001b[?25hdone\n",
            "\u001b[2K     \u001b[90m━━━━━━━━━━━━━━━━━━━━━━━━━━━━━━━━━━━━━\u001b[0m \u001b[32m107.9/107.9 kB\u001b[0m \u001b[31m275.9 kB/s\u001b[0m eta \u001b[36m0:00:00\u001b[0m\n",
            "\u001b[?25h  Preparing metadata (setup.py) ... \u001b[?25l\u001b[?25hdone\n",
            "\u001b[2K     \u001b[90m━━━━━━━━━━━━━━━━━━━━━━━━━━━━━━━━━━━━━━━━\u001b[0m \u001b[32m98.7/98.7 kB\u001b[0m \u001b[31m10.1 MB/s\u001b[0m eta \u001b[36m0:00:00\u001b[0m\n",
            "\u001b[2K     \u001b[90m━━━━━━━━━━━━━━━━━━━━━━━━━━━━━━━━━━━━━━\u001b[0m \u001b[32m228.2/228.2 kB\u001b[0m \u001b[31m18.3 MB/s\u001b[0m eta \u001b[36m0:00:00\u001b[0m\n",
            "\u001b[2K     \u001b[90m━━━━━━━━━━━━━━━━━━━━━━━━━━━━━━━━━━━━━━━━\u001b[0m \u001b[32m69.8/69.8 kB\u001b[0m \u001b[31m7.2 MB/s\u001b[0m eta \u001b[36m0:00:00\u001b[0m\n",
            "\u001b[2K     \u001b[90m━━━━━━━━━━━━━━━━━━━━━━━━━━━━━━━━━━━━━━\u001b[0m \u001b[32m212.5/212.5 kB\u001b[0m \u001b[31m14.9 MB/s\u001b[0m eta \u001b[36m0:00:00\u001b[0m\n",
            "\u001b[2K     \u001b[90m━━━━━━━━━━━━━━━━━━━━━━━━━━━━━━━━━━━━━━\u001b[0m \u001b[32m134.3/134.3 kB\u001b[0m \u001b[31m13.8 MB/s\u001b[0m eta \u001b[36m0:00:00\u001b[0m\n",
            "\u001b[2K     \u001b[90m━━━━━━━━━━━━━━━━━━━━━━━━━━━━━━━━━━━━━━\u001b[0m \u001b[32m682.2/682.2 kB\u001b[0m \u001b[31m45.0 MB/s\u001b[0m eta \u001b[36m0:00:00\u001b[0m\n",
            "\u001b[?25h  \u001b[1;31merror\u001b[0m: \u001b[1msubprocess-exited-with-error\u001b[0m\n",
            "  \n",
            "  \u001b[31m×\u001b[0m \u001b[32mpip subprocess to install build dependencies\u001b[0m did not run successfully.\n",
            "  \u001b[31m│\u001b[0m exit code: \u001b[1;36m1\u001b[0m\n",
            "  \u001b[31m╰─>\u001b[0m See above for output.\n",
            "  \n",
            "  \u001b[1;35mnote\u001b[0m: This error originates from a subprocess, and is likely not a problem with pip.\n",
            "  Installing build dependencies ... \u001b[?25l\u001b[?25herror\n",
            "\u001b[1;31merror\u001b[0m: \u001b[1msubprocess-exited-with-error\u001b[0m\n",
            "\n",
            "\u001b[31m×\u001b[0m \u001b[32mpip subprocess to install build dependencies\u001b[0m did not run successfully.\n",
            "\u001b[31m│\u001b[0m exit code: \u001b[1;36m1\u001b[0m\n",
            "\u001b[31m╰─>\u001b[0m See above for output.\n",
            "\n",
            "\u001b[1;35mnote\u001b[0m: This error originates from a subprocess, and is likely not a problem with pip.\n",
            "Looking in indexes: https://pypi.org/simple, https://us-python.pkg.dev/colab-wheels/public/simple/\n",
            "Collecting https://github.com/explosion/spacy-models/releases/download/en_core_web_sm-3.0.0/en_core_web_sm-3.0.0.tar.gz\n",
            "  Downloading https://github.com/explosion/spacy-models/releases/download/en_core_web_sm-3.0.0/en_core_web_sm-3.0.0.tar.gz (13.7 MB)\n",
            "\u001b[2K     \u001b[90m━━━━━━━━━━━━━━━━━━━━━━━━━━━━━━━━━━━━━━━━\u001b[0m \u001b[32m13.7/13.7 MB\u001b[0m \u001b[31m45.0 MB/s\u001b[0m eta \u001b[36m0:00:00\u001b[0m\n",
            "\u001b[?25h  Preparing metadata (setup.py) ... \u001b[?25l\u001b[?25hdone\n",
            "Collecting spacy<3.1.0,>=3.0.0\n",
            "  Downloading spacy-3.0.9-cp310-cp310-manylinux_2_17_x86_64.manylinux2014_x86_64.whl (5.9 MB)\n",
            "\u001b[2K     \u001b[90m━━━━━━━━━━━━━━━━━━━━━━━━━━━━━━━━━━━━━━━━\u001b[0m \u001b[32m5.9/5.9 MB\u001b[0m \u001b[31m44.9 MB/s\u001b[0m eta \u001b[36m0:00:00\u001b[0m\n",
            "\u001b[?25hRequirement already satisfied: jinja2 in /usr/local/lib/python3.10/dist-packages (from spacy<3.1.0,>=3.0.0->en-core-web-sm==3.0.0) (3.1.2)\n",
            "Requirement already satisfied: packaging>=20.0 in /usr/local/lib/python3.10/dist-packages (from spacy<3.1.0,>=3.0.0->en-core-web-sm==3.0.0) (23.1)\n",
            "Requirement already satisfied: preshed<3.1.0,>=3.0.2 in /usr/local/lib/python3.10/dist-packages (from spacy<3.1.0,>=3.0.0->en-core-web-sm==3.0.0) (3.0.8)\n",
            "Requirement already satisfied: numpy>=1.15.0 in /usr/local/lib/python3.10/dist-packages (from spacy<3.1.0,>=3.0.0->en-core-web-sm==3.0.0) (1.22.4)\n",
            "Collecting wasabi<1.1.0,>=0.8.1\n",
            "  Using cached wasabi-0.10.1-py3-none-any.whl (26 kB)\n",
            "Collecting typer<0.4.0,>=0.3.0\n",
            "  Using cached typer-0.3.2-py3-none-any.whl (21 kB)\n",
            "Collecting thinc<8.1.0,>=8.0.3\n",
            "  Using cached thinc-8.0.17-cp310-cp310-manylinux_2_17_x86_64.manylinux2014_x86_64.whl (659 kB)\n",
            "Requirement already satisfied: requests<3.0.0,>=2.13.0 in /usr/local/lib/python3.10/dist-packages (from spacy<3.1.0,>=3.0.0->en-core-web-sm==3.0.0) (2.27.1)\n",
            "Collecting pydantic!=1.8,!=1.8.1,<1.9.0,>=1.7.4\n",
            "  Using cached pydantic-1.8.2-py3-none-any.whl (126 kB)\n",
            "Requirement already satisfied: spacy-legacy<3.1.0,>=3.0.5 in /usr/local/lib/python3.10/dist-packages (from spacy<3.1.0,>=3.0.0->en-core-web-sm==3.0.0) (3.0.12)\n",
            "Requirement already satisfied: blis<0.8.0,>=0.4.0 in /usr/local/lib/python3.10/dist-packages (from spacy<3.1.0,>=3.0.0->en-core-web-sm==3.0.0) (0.7.9)\n",
            "Requirement already satisfied: srsly<3.0.0,>=2.4.1 in /usr/local/lib/python3.10/dist-packages (from spacy<3.1.0,>=3.0.0->en-core-web-sm==3.0.0) (2.4.6)\n",
            "Requirement already satisfied: catalogue<2.1.0,>=2.0.4 in /usr/local/lib/python3.10/dist-packages (from spacy<3.1.0,>=3.0.0->en-core-web-sm==3.0.0) (2.0.8)\n",
            "Requirement already satisfied: setuptools in /usr/local/lib/python3.10/dist-packages (from spacy<3.1.0,>=3.0.0->en-core-web-sm==3.0.0) (67.7.2)\n",
            "Requirement already satisfied: pathy>=0.3.5 in /usr/local/lib/python3.10/dist-packages (from spacy<3.1.0,>=3.0.0->en-core-web-sm==3.0.0) (0.10.1)\n",
            "Requirement already satisfied: smart-open<7.0.0,>=5.2.1 in /usr/local/lib/python3.10/dist-packages (from spacy<3.1.0,>=3.0.0->en-core-web-sm==3.0.0) (6.3.0)\n",
            "Requirement already satisfied: tqdm<5.0.0,>=4.38.0 in /usr/local/lib/python3.10/dist-packages (from spacy<3.1.0,>=3.0.0->en-core-web-sm==3.0.0) (4.65.0)\n",
            "Requirement already satisfied: murmurhash<1.1.0,>=0.28.0 in /usr/local/lib/python3.10/dist-packages (from spacy<3.1.0,>=3.0.0->en-core-web-sm==3.0.0) (1.0.9)\n",
            "Requirement already satisfied: cymem<2.1.0,>=2.0.2 in /usr/local/lib/python3.10/dist-packages (from spacy<3.1.0,>=3.0.0->en-core-web-sm==3.0.0) (2.0.7)\n",
            "Requirement already satisfied: typing-extensions>=3.7.4.3 in /usr/local/lib/python3.10/dist-packages (from pydantic!=1.8,!=1.8.1,<1.9.0,>=1.7.4->spacy<3.1.0,>=3.0.0->en-core-web-sm==3.0.0) (4.5.0)\n",
            "Requirement already satisfied: idna<4,>=2.5 in /usr/local/lib/python3.10/dist-packages (from requests<3.0.0,>=2.13.0->spacy<3.1.0,>=3.0.0->en-core-web-sm==3.0.0) (3.4)\n",
            "Requirement already satisfied: certifi>=2017.4.17 in /usr/local/lib/python3.10/dist-packages (from requests<3.0.0,>=2.13.0->spacy<3.1.0,>=3.0.0->en-core-web-sm==3.0.0) (2022.12.7)\n",
            "Requirement already satisfied: charset-normalizer~=2.0.0 in /usr/local/lib/python3.10/dist-packages (from requests<3.0.0,>=2.13.0->spacy<3.1.0,>=3.0.0->en-core-web-sm==3.0.0) (2.0.12)\n",
            "Requirement already satisfied: urllib3<1.27,>=1.21.1 in /usr/local/lib/python3.10/dist-packages (from requests<3.0.0,>=2.13.0->spacy<3.1.0,>=3.0.0->en-core-web-sm==3.0.0) (1.26.15)\n",
            "Collecting click<7.2.0,>=7.1.1\n",
            "  Downloading click-7.1.2-py2.py3-none-any.whl (82 kB)\n",
            "\u001b[2K     \u001b[90m━━━━━━━━━━━━━━━━━━━━━━━━━━━━━━━━━━━━━━━━\u001b[0m \u001b[32m82.8/82.8 kB\u001b[0m \u001b[31m8.7 MB/s\u001b[0m eta \u001b[36m0:00:00\u001b[0m\n",
            "\u001b[?25hRequirement already satisfied: MarkupSafe>=2.0 in /usr/local/lib/python3.10/dist-packages (from jinja2->spacy<3.1.0,>=3.0.0->en-core-web-sm==3.0.0) (2.1.2)\n",
            "Building wheels for collected packages: en-core-web-sm\n",
            "  Building wheel for en-core-web-sm (setup.py) ... \u001b[?25l\u001b[?25hdone\n",
            "  Created wheel for en-core-web-sm: filename=en_core_web_sm-3.0.0-py3-none-any.whl size=13704321 sha256=e6a53b5ed269a24905dd7c4ee71261640dae506f6a68be7927bfb0284a4fb3c5\n",
            "  Stored in directory: /root/.cache/pip/wheels/02/71/33/ba353e928efc99d80cd9a851dfcfb11fab8a04839fc4e63088\n",
            "Successfully built en-core-web-sm\n",
            "Installing collected packages: wasabi, pydantic, click, typer, thinc, spacy, en-core-web-sm\n",
            "  Attempting uninstall: wasabi\n",
            "    Found existing installation: wasabi 1.1.1\n",
            "    Uninstalling wasabi-1.1.1:\n",
            "      Successfully uninstalled wasabi-1.1.1\n",
            "  Attempting uninstall: pydantic\n",
            "    Found existing installation: pydantic 1.10.7\n",
            "    Uninstalling pydantic-1.10.7:\n",
            "      Successfully uninstalled pydantic-1.10.7\n",
            "  Attempting uninstall: click\n",
            "    Found existing installation: click 8.1.3\n",
            "    Uninstalling click-8.1.3:\n",
            "      Successfully uninstalled click-8.1.3\n",
            "  Attempting uninstall: typer\n",
            "    Found existing installation: typer 0.7.0\n",
            "    Uninstalling typer-0.7.0:\n",
            "      Successfully uninstalled typer-0.7.0\n",
            "  Attempting uninstall: thinc\n",
            "    Found existing installation: thinc 8.1.9\n",
            "    Uninstalling thinc-8.1.9:\n",
            "      Successfully uninstalled thinc-8.1.9\n",
            "  Attempting uninstall: spacy\n",
            "    Found existing installation: spacy 3.5.2\n",
            "    Uninstalling spacy-3.5.2:\n",
            "      Successfully uninstalled spacy-3.5.2\n",
            "  Attempting uninstall: en-core-web-sm\n",
            "    Found existing installation: en-core-web-sm 3.5.0\n",
            "    Uninstalling en-core-web-sm-3.5.0:\n",
            "      Successfully uninstalled en-core-web-sm-3.5.0\n",
            "\u001b[31mERROR: pip's dependency resolver does not currently take into account all the packages that are installed. This behaviour is the source of the following dependency conflicts.\n",
            "inflect 6.0.4 requires pydantic>=1.9.1, but you have pydantic 1.8.2 which is incompatible.\n",
            "flask 2.2.4 requires click>=8.0, but you have click 7.1.2 which is incompatible.\u001b[0m\u001b[31m\n",
            "\u001b[0mSuccessfully installed click-7.1.2 en-core-web-sm-3.0.0 pydantic-1.8.2 spacy-3.0.9 thinc-8.0.17 typer-0.3.2 wasabi-0.10.1\n"
          ]
        }
      ]
    },
    {
      "cell_type": "code",
      "source": [
        "# Loading the Modules\n",
        "import nltk\n",
        "nltk.download('omw-1.4')"
      ],
      "metadata": {
        "id": "5NhuE4tUxJKK",
        "colab": {
          "base_uri": "https://localhost:8080/"
        },
        "outputId": "275de02f-3d80-4964-acec-3992f847dbb6"
      },
      "execution_count": null,
      "outputs": [
        {
          "output_type": "stream",
          "name": "stderr",
          "text": [
            "[nltk_data] Downloading package omw-1.4 to /root/nltk_data...\n"
          ]
        },
        {
          "output_type": "execute_result",
          "data": {
            "text/plain": [
              "True"
            ]
          },
          "metadata": {},
          "execution_count": 9
        }
      ]
    },
    {
      "cell_type": "code",
      "source": [
        "from nlaugmenter.transformations.butter_fingers_perturbation.transformation import ButterFingersPerturbation\n"
      ],
      "metadata": {
        "id": "DFai_CdCxLLG"
      },
      "execution_count": null,
      "outputs": []
    },
    {
      "cell_type": "markdown",
      "source": [
        "#***what is ButterFingersPertuburation?***\n",
        "\n",
        "**ButterFingersPerturbation** is a type of perturbation that is specifically designed to introduce spelling mistakes into the text data. It randomly replaces characters in the text with other characters that are near them on a keyboard (e.g., \"l\" with \"k\", \"o\" with \"p\", etc.) to simulate spelling errors."
      ],
      "metadata": {
        "id": "LNHhWoZGPE6P"
      }
    },
    {
      "cell_type": "markdown",
      "source": [
        "The cell below performs Data Augmentation using the ButterFingersPerturbation from the imported NLAugmentor library."
      ],
      "metadata": {
        "id": "AsmCo9WHLdta"
      }
    },
    {
      "cell_type": "code",
      "source": [
        "# Performing Data Augmentation on our Dataset\n",
        "augmentor = ButterFingersPerturbation(max_outputs=3)\n",
        "augmented_df = pd.DataFrame(columns = [\"comments\", \"student_star\", \"student_difficult\"])\n",
        "for i, r in df.iterrows():\n",
        "  augmented_data = {}\n",
        "  augmented_sentence = augmentor.generate(r[\"comments\"])\n",
        "  augmented_data[\"comments\"] = augmented_sentence[0]\n",
        "  augmented_data[\"student_star\"] = r[\"student_star\"]\n",
        "  augmented_data[\"student_difficult\"] = r[\"student_difficult\"]\n",
        "  augmented_data_df = pd.DataFrame([augmented_data])\n",
        "  augmented_df = pd.concat([augmented_df, augmented_data_df], ignore_index = True)"
      ],
      "metadata": {
        "id": "06By9AcDxMyK"
      },
      "execution_count": null,
      "outputs": []
    },
    {
      "cell_type": "code",
      "source": [
        "# Appending / Concatinating the Augmented Data into our Original Dataset\n",
        "df = pd.concat([df, augmented_df], ignore_index = True)"
      ],
      "metadata": {
        "id": "B0d8lYtzxO7n"
      },
      "execution_count": null,
      "outputs": []
    },
    {
      "cell_type": "markdown",
      "source": [
        "## **Performing Data Cleaning and Preprocessing**\n",
        "\n",
        "---\n",
        "\n"
      ],
      "metadata": {
        "id": "iNNhCHEmU7z5"
      }
    },
    {
      "cell_type": "markdown",
      "source": [
        "The cell below uses the spaCy library we started the project with importing.\n",
        "\n",
        "We end up using it to preprocess all of our text data that we're going to use as input data (the comments data).\n",
        "\n",
        "Specifically, it is used to remove punctuations and numbers, single characters, multiple spaces, stopwords, lemmatize the text, and make all characters lower case."
      ],
      "metadata": {
        "id": "ilZMwBTDLmUo"
      }
    },
    {
      "cell_type": "code",
      "source": [
        "import string\n",
        "\n",
        "nlp = spacy.load('en_core_web_sm')\n",
        "\n",
        "def preprocess_text(sen):\n",
        "    '''Cleans text data up, leaving only 2 or more char long non-stepwords composed of A-Z & a-z only\n",
        "    in lowercase'''\n",
        "\n",
        "    doc = nlp(sen)\n",
        "\n",
        "    # Remove punctuations and numbers\n",
        "    sentence = ' '.join(token.text for token in doc if token.is_alpha)\n",
        "\n",
        "    # Single character removal\n",
        "    sentence = re.sub(r\"\\s+[a-zA-Z]\\s+\", ' ', sentence)\n",
        "\n",
        "    # Remove multiple spaces\n",
        "    sentence = re.sub(r'\\s+', ' ', sentence)\n",
        "\n",
        "    # Remove Stopwords\n",
        "    sentence = ' '.join(token.text for token in doc if not token.is_stop)\n",
        "\n",
        "    # new part\n",
        "    sentence = sentence.translate(str.maketrans('', '', string.punctuation))\n",
        "\n",
        "    # Lemmatize text\n",
        "    sentence = ' '.join(token.lemma_ for token in nlp(sentence))\n",
        "\n",
        "    sentence = sentence.lower()\n",
        "\n",
        "    return sentence.lower()\n",
        "\n",
        "X = []\n",
        "sentences = list(df['comments'])\n",
        "for sen in sentences:\n",
        "  X.append(preprocess_text(sen))\n",
        "\n",
        "star_rate = []\n",
        "difficulty = []\n",
        "for index,row in df.iterrows():\n",
        "    if type(row[\"comments\"]) == str:\n",
        "        star_rate.append(row[\"student_star\"])\n",
        "        difficulty.append(row[\"student_difficult\"])\n"
      ],
      "metadata": {
        "id": "JKYiQHFQ8zxB",
        "colab": {
          "base_uri": "https://localhost:8080/"
        },
        "outputId": "658d362e-dda1-4753-b14f-81cc0733b3fd"
      },
      "execution_count": null,
      "outputs": [
        {
          "output_type": "stream",
          "name": "stderr",
          "text": [
            "/usr/local/lib/python3.10/dist-packages/spacy/util.py:887: UserWarning: [W095] Model 'en_core_web_sm' (3.0.0) was trained with spaCy v3.0 and may not be 100% compatible with the current version (3.5.2). If you see errors or degraded performance, download a newer compatible model or retrain your custom model with the current spaCy version. For more details and available updates, run: python -m spacy validate\n",
            "  path (Union[Path, str]): The directory path.\n"
          ]
        }
      ]
    },
    {
      "cell_type": "markdown",
      "source": [
        "## **Splitting the dataset to training and testing dataset**\n",
        "\n",
        "---\n",
        "\n"
      ],
      "metadata": {
        "id": "gafs__LOVPcR"
      }
    },
    {
      "cell_type": "code",
      "source": [
        "# storing both star rating (Quality) and difficulty as the output label\n",
        "y = np.stack((star_rate,difficulty),axis=1)\n",
        "\n",
        "# Splitting the dataset among training and testing dataset\n",
        "X_train, X_test, y_train, y_test = train_test_split(X, y, test_size=0.20, random_state=42)"
      ],
      "metadata": {
        "id": "6bSH-Ta287ZZ"
      },
      "execution_count": null,
      "outputs": []
    },
    {
      "cell_type": "code",
      "source": [
        "print(X_train[0])\n",
        "print(len(X_train))"
      ],
      "metadata": {
        "id": "X2QVUnlLEtKn",
        "colab": {
          "base_uri": "https://localhost:8080/"
        },
        "outputId": "b790b54a-2184-4428-9f82-37e7b64a2c01"
      },
      "execution_count": null,
      "outputs": [
        {
          "output_type": "stream",
          "name": "stdout",
          "text": [
            "big trick   do nt ecer tane class\n",
            "37376\n"
          ]
        }
      ]
    },
    {
      "cell_type": "code",
      "source": [
        "# Performing the word tokenization\n",
        "\n",
        "word_tokenizer = Tokenizer()\n",
        "word_tokenizer.fit_on_texts(X_train)\n",
        "\n",
        "X_train = word_tokenizer.texts_to_sequences(X_train)\n",
        "X_test = word_tokenizer.texts_to_sequences(X_test)"
      ],
      "metadata": {
        "id": "y83zrMGeEr78"
      },
      "execution_count": null,
      "outputs": []
    },
    {
      "cell_type": "code",
      "source": [
        "print(X_train[0])"
      ],
      "metadata": {
        "id": "UNaBJ-xhE2-1",
        "colab": {
          "base_uri": "https://localhost:8080/"
        },
        "outputId": "745a0d70-7754-4c59-9fe8-64ce7cdde0a0"
      },
      "execution_count": null,
      "outputs": [
        {
          "output_type": "stream",
          "name": "stdout",
          "text": [
            "[301, 923, 11, 2, 2432, 827, 1]\n"
          ]
        }
      ]
    },
    {
      "cell_type": "code",
      "source": [
        "import io\n",
        "import json\n",
        "\n",
        "tokenizer_json = word_tokenizer.to_json()\n",
        "with io.open('b3_tokenizer.json', 'w', encoding='utf-8') as f:\n",
        "    f.write(json.dumps(tokenizer_json, ensure_ascii=False))\n",
        "vocab_length = len(word_tokenizer.word_index) + 1\n",
        "\n",
        "print(vocab_length)\n",
        "\n",
        "# setting the number of words to 100\n",
        "maxlen = 100"
      ],
      "metadata": {
        "id": "6BQ0ntvy88iP",
        "colab": {
          "base_uri": "https://localhost:8080/"
        },
        "outputId": "7c9593ad-6a71-4c30-e6e5-fdc784b0d25e"
      },
      "execution_count": null,
      "outputs": [
        {
          "output_type": "stream",
          "name": "stdout",
          "text": [
            "59703\n"
          ]
        }
      ]
    },
    {
      "cell_type": "code",
      "source": [
        "# performing padding\n",
        "X_train = pad_sequences(X_train, padding='post', maxlen=maxlen)\n",
        "X_test = pad_sequences(X_test, padding='post', maxlen=maxlen)"
      ],
      "metadata": {
        "id": "Z9vh1Y7g89lG"
      },
      "execution_count": null,
      "outputs": []
    },
    {
      "cell_type": "markdown",
      "source": [
        "## **Importing GLOVE Embedding**\n",
        "\n",
        "---\n",
        "#***Why GLOVE?***\n",
        "\n",
        "1.   Firstly, GLOVE embeddings have been trained on large-scale text data, which can capture a wide range of semantic relationships between words.\n",
        "2.   Secondly, using GLOVE  can save time and computational resources that would be required to train an embedding model from scratch.\n",
        "\n",
        "1.   Lastly, GLOVE can be easily integrated into RNN models as input layers to represent the text data as dense vectors.\n",
        "\n",
        "\n",
        "\n",
        "\n",
        "\n",
        "\n"
      ],
      "metadata": {
        "id": "8dxaYZ1QV8LX"
      }
    },
    {
      "cell_type": "markdown",
      "source": [
        "In the cells below we utilized GloVe for pre-trained word embeddings."
      ],
      "metadata": {
        "id": "YZXhXCtcLsdX"
      }
    },
    {
      "cell_type": "code",
      "source": [
        "!wget http://nlp.stanford.edu/data/glove.6B.zip"
      ],
      "metadata": {
        "id": "NpVzjrNv8_xS",
        "colab": {
          "base_uri": "https://localhost:8080/"
        },
        "outputId": "54ec4779-82d6-40bf-b706-d757cd8c0211"
      },
      "execution_count": null,
      "outputs": [
        {
          "output_type": "stream",
          "name": "stdout",
          "text": [
            "--2023-04-29 06:13:57--  http://nlp.stanford.edu/data/glove.6B.zip\n",
            "Resolving nlp.stanford.edu (nlp.stanford.edu)... 171.64.67.140\n",
            "Connecting to nlp.stanford.edu (nlp.stanford.edu)|171.64.67.140|:80... connected.\n",
            "HTTP request sent, awaiting response... 302 Found\n",
            "Location: https://nlp.stanford.edu/data/glove.6B.zip [following]\n",
            "--2023-04-29 06:13:57--  https://nlp.stanford.edu/data/glove.6B.zip\n",
            "Connecting to nlp.stanford.edu (nlp.stanford.edu)|171.64.67.140|:443... connected.\n",
            "HTTP request sent, awaiting response... 301 Moved Permanently\n",
            "Location: https://downloads.cs.stanford.edu/nlp/data/glove.6B.zip [following]\n",
            "--2023-04-29 06:13:57--  https://downloads.cs.stanford.edu/nlp/data/glove.6B.zip\n",
            "Resolving downloads.cs.stanford.edu (downloads.cs.stanford.edu)... 171.64.64.22\n",
            "Connecting to downloads.cs.stanford.edu (downloads.cs.stanford.edu)|171.64.64.22|:443... connected.\n",
            "HTTP request sent, awaiting response... 200 OK\n",
            "Length: 862182613 (822M) [application/zip]\n",
            "Saving to: ‘glove.6B.zip’\n",
            "\n",
            "glove.6B.zip        100%[===================>] 822.24M  5.02MB/s    in 2m 39s  \n",
            "\n",
            "2023-04-29 06:16:37 (5.16 MB/s) - ‘glove.6B.zip’ saved [862182613/862182613]\n",
            "\n"
          ]
        }
      ]
    },
    {
      "cell_type": "code",
      "source": [
        "!unzip -q glove.6B.zip"
      ],
      "metadata": {
        "id": "7QZB1UBc9A6e"
      },
      "execution_count": null,
      "outputs": []
    },
    {
      "cell_type": "code",
      "source": [
        "from numpy import asarray\n",
        "from numpy import zeros\n",
        "import os\n",
        "\n",
        "embeddings_dictionary = dict()\n",
        "glove_file = open('glove.6B.100d.txt', encoding=\"utf8\")\n",
        "\n",
        "for line in glove_file:\n",
        "    records = line.split(' ')\n",
        "    word = records[0]\n",
        "    vector_dimensions = asarray(records[1:], dtype='float32')\n",
        "    embeddings_dictionary[word] = vector_dimensions\n",
        "glove_file.close()"
      ],
      "metadata": {
        "id": "Pp5bE8W59GJ2"
      },
      "execution_count": null,
      "outputs": []
    },
    {
      "cell_type": "code",
      "source": [
        "embedding_matrix = zeros((vocab_length, 100))\n",
        "for word, index in word_tokenizer.word_index.items():\n",
        "    embedding_vector = embeddings_dictionary.get(word)\n",
        "    if embedding_vector is not None:\n",
        "        embedding_matrix[index] = embedding_vector"
      ],
      "metadata": {
        "id": "9zpXCPPy9HeU"
      },
      "execution_count": null,
      "outputs": []
    },
    {
      "cell_type": "markdown",
      "source": [
        "## **Model Architecture:**\n",
        "\n",
        "---\n",
        "#### **We are using one model here to predict both quality and difficulty in this section.**\n",
        "This model architecture is designed to take in text data, process it through a sequence of recurrent layers with L2 regularization and dropout, and output predicted scores for quality and difficulty.\n"
      ],
      "metadata": {
        "id": "FCzg0zYhWCE_"
      }
    },
    {
      "cell_type": "code",
      "source": [
        "from keras.models import Sequential\n",
        "from keras import regularizers\n",
        "from keras.models import Model\n",
        "from keras.layers import Input,Embedding,GRU\n",
        "from keras.layers import RepeatVector, TimeDistributed\n",
        "from keras.models import Model\n",
        "from tensorflow.keras import regularizers\n",
        "\n",
        "# model = Sequential([\n",
        "#       Embedding(vocab_length, 100, weights=[embedding_matrix], input_length=maxlen, trainable=False),\n",
        "#         GRU(128),\n",
        "#         Dense(2, activation='linear')\n",
        "#     ])\n",
        "\n",
        "model = Sequential([\n",
        "      Embedding(vocab_length, 100, weights=[embedding_matrix], input_length=maxlen, trainable=False),\n",
        "      GRU(128, kernel_regularizer=regularizers.l2(0.01), return_sequences=True),\n",
        "      Dropout(0.2),\n",
        "      GRU(64, kernel_regularizer=regularizers.l2(0.01)),\n",
        "      Dense(2, activation='linear')\n",
        "    ])\n",
        "\n",
        "# compiling the model\n",
        "model.compile(loss='mse', optimizer='adam', metrics=['accuracy'])\n",
        "# model.compile(loss='mse', optimizer='adam', metrics=['mse', 'mae'])\n",
        "\n",
        "\n",
        "# training the model\n",
        "history=model.fit(X_train, y_train, batch_size=128, epochs=10, verbose=1, validation_split=0.2, shuffle=True)\n",
        "\n",
        "# Evaluate the model\n",
        "score = model.evaluate(X_test, y_test, verbose=1)"
      ],
      "metadata": {
        "id": "G6haMsy_9I5V",
        "colab": {
          "base_uri": "https://localhost:8080/"
        },
        "outputId": "ff6e7bcb-8891-4f02-ec4e-5144344f1d1a"
      },
      "execution_count": null,
      "outputs": [
        {
          "output_type": "stream",
          "name": "stdout",
          "text": [
            "Epoch 1/10\n",
            "234/234 [==============================] - 146s 594ms/step - loss: 3.1923 - accuracy: 0.6723 - val_loss: 2.0697 - val_accuracy: 0.6953\n",
            "Epoch 2/10\n",
            "234/234 [==============================] - 146s 624ms/step - loss: 1.9652 - accuracy: 0.6974 - val_loss: 1.9279 - val_accuracy: 0.6953\n",
            "Epoch 3/10\n",
            "234/234 [==============================] - 151s 648ms/step - loss: 1.8887 - accuracy: 0.6974 - val_loss: 1.8976 - val_accuracy: 0.6953\n",
            "Epoch 4/10\n",
            "234/234 [==============================] - 169s 724ms/step - loss: 1.7856 - accuracy: 0.7118 - val_loss: 1.5781 - val_accuracy: 0.7497\n",
            "Epoch 5/10\n",
            "234/234 [==============================] - 146s 624ms/step - loss: 1.4691 - accuracy: 0.7731 - val_loss: 1.4489 - val_accuracy: 0.7871\n",
            "Epoch 6/10\n",
            "234/234 [==============================] - 151s 644ms/step - loss: 1.4156 - accuracy: 0.7828 - val_loss: 1.4624 - val_accuracy: 0.7865\n",
            "Epoch 7/10\n",
            "234/234 [==============================] - 146s 625ms/step - loss: 1.3877 - accuracy: 0.7838 - val_loss: 1.3933 - val_accuracy: 0.7830\n",
            "Epoch 8/10\n",
            "234/234 [==============================] - 142s 606ms/step - loss: 1.3623 - accuracy: 0.7865 - val_loss: 1.3544 - val_accuracy: 0.7858\n",
            "Epoch 9/10\n",
            "234/234 [==============================] - 138s 587ms/step - loss: 1.3326 - accuracy: 0.7878 - val_loss: 1.3413 - val_accuracy: 0.7861\n",
            "Epoch 10/10\n",
            "234/234 [==============================] - 152s 647ms/step - loss: 1.3040 - accuracy: 0.7907 - val_loss: 1.3239 - val_accuracy: 0.7867\n",
            "292/292 [==============================] - 15s 51ms/step - loss: 1.3104 - accuracy: 0.7827\n"
          ]
        }
      ]
    },
    {
      "cell_type": "code",
      "source": [
        "import matplotlib.pyplot as plt\n",
        "# Plot the training and validation loss over each epoch\n",
        "plt.plot(history.history['loss'])\n",
        "plt.plot(history.history['val_loss'])\n",
        "plt.title('Model loss')\n",
        "plt.ylabel('Loss')\n",
        "plt.xlabel('Epoch')\n",
        "plt.legend(['Train', 'Validation'], loc='upper left')\n",
        "plt.show()"
      ],
      "metadata": {
        "id": "nmmI8FOieSB4",
        "colab": {
          "base_uri": "https://localhost:8080/",
          "height": 472
        },
        "outputId": "7364362b-9935-4907-bc95-ced1deded011"
      },
      "execution_count": null,
      "outputs": [
        {
          "output_type": "display_data",
          "data": {
            "text/plain": [
              "<Figure size 640x480 with 1 Axes>"
            ],
            "image/png": "[encoded data removed]"
          },
          "metadata": {}
        }
      ]
    },
    {
      "cell_type": "code",
      "source": [
        "# Plot the training and validation accuracy over each epoch\n",
        "plt.plot(history.history['accuracy'])\n",
        "plt.plot(history.history['val_accuracy'])\n",
        "plt.title('Model accuracy')\n",
        "plt.ylabel('Accuracy')\n",
        "plt.xlabel('Epoch')\n",
        "plt.legend(['Train', 'Validation'], loc='upper left')\n",
        "plt.show()"
      ],
      "metadata": {
        "id": "XqqhjaloecXv",
        "colab": {
          "base_uri": "https://localhost:8080/",
          "height": 472
        },
        "outputId": "0e1195c1-5e67-44ca-fd81-c0c936961c0d"
      },
      "execution_count": null,
      "outputs": [
        {
          "output_type": "display_data",
          "data": {
            "text/plain": [
              "<Figure size 640x480 with 1 Axes>"
            ],
            "image/png": "[encoded data removed]"
          },
          "metadata": {}
        }
      ]
    },
    {
      "cell_type": "markdown",
      "source": [
        "## **Manual Testing on few of random comments**\n",
        "\n",
        "---\n",
        "\n"
      ],
      "metadata": {
        "id": "wVjTXtM-WW2o"
      }
    },
    {
      "cell_type": "code",
      "source": [
        "# print(X_train[0])\n",
        "\n",
        "# xval = preprocess_text(\"Took online course. Day after Midterms I was the *only* one who turned in the next assignment. Rest of the year was 3 people turning in their homework. Took off points for incorrect COMMENTS, not just incorrect code. hyper-specific. bad teacher. wouldnt even help me install the software properly, gave no link to online instructions either.\")\n",
        "# print(xval)\n",
        "# xval = word_tokenizer.texts_to_sequences([xval])\n",
        "# print(xval)\n",
        "# xval = pad_sequences(xval, padding='post', maxlen=maxlen)\n",
        "\n",
        "# print(xval)\n",
        "# output_probs = model.predict(xval)\n",
        "# print(output_probs)\n",
        "\n",
        "result = []\n",
        "\n",
        "for i in range(0,10):\n",
        "  xval = preprocess_text(sentences[i])\n",
        "  xval = word_tokenizer.texts_to_sequences([xval])\n",
        "  xval = pad_sequences(xval, padding='post', maxlen=maxlen)\n",
        "  output_probs = model.predict(xval)\n",
        "  result.append(str(star_rate[i]))\n",
        "  result.append(str(difficulty[i]))\n",
        "  result.append(str(output_probs[0][0]))\n",
        "  result.append(str(output_probs[0][1]))\n",
        "\n",
        "print(\"ActualQuality\" +\" \" + \"ActualDifficulty\"+\" \"+ \"PredictedQuality\" +\" \" + \"PredictedDifficulty\")\n",
        "\n",
        "for i in range(0,len(result),4):\n",
        "  print(\"  \"+ result[i] +\"              \" + result[i+1]+\"              \"+ result[i+2] +\"              \" + result[i+3])"
      ],
      "metadata": {
        "id": "Py2zM7inA0BF",
        "colab": {
          "base_uri": "https://localhost:8080/"
        },
        "outputId": "764ed211-9738-4435-d77e-956f95a80b04"
      },
      "execution_count": null,
      "outputs": [
        {
          "output_type": "stream",
          "name": "stdout",
          "text": [
            "1/1 [==============================] - 2s 2s/step\n",
            "1/1 [==============================] - 0s 52ms/step\n",
            "1/1 [==============================] - 0s 31ms/step\n",
            "1/1 [==============================] - 0s 36ms/step\n",
            "1/1 [==============================] - 0s 38ms/step\n",
            "1/1 [==============================] - 0s 63ms/step\n",
            "1/1 [==============================] - 0s 69ms/step\n",
            "1/1 [==============================] - 0s 88ms/step\n",
            "1/1 [==============================] - 0s 46ms/step\n",
            "1/1 [==============================] - 0s 64ms/step\n",
            "ActualQuality ActualDifficulty PredictedQuality PredictedDifficulty\n",
            "  4.0              2.0              3.982706              2.2653162\n",
            "  4.0              1.0              2.2679965              3.6010911\n",
            "  5.0              1.0              3.0837746              1.2269361\n",
            "  4.5              5.0              3.4566624              2.2319765\n",
            "  4.0              1.0              3.899865              1.9813935\n",
            "  5.0              4.0              3.4378324              2.0721824\n",
            "  2.5              5.0              1.3892561              3.845601\n",
            "  5.0              1.0              3.6548214              2.4864717\n",
            "  5.0              1.0              3.2335854              2.558734\n",
            "  5.0              2.0              3.523105              2.1896558\n"
          ]
        }
      ]
    },
    {
      "cell_type": "markdown",
      "source": [
        "## **Two Separate Models**\n",
        "\n",
        "1.   We are using Classification Models for Predicting Quality and Difficulty\n",
        "2.   We are going to convert the decimal difficulty levels to categorical variables\n",
        "\n"
      ],
      "metadata": {
        "id": "wm8wF1zB359a"
      }
    },
    {
      "cell_type": "code",
      "source": [
        "import numpy as np\n",
        "\n",
        "# Assume that the training data has been prepared with comments and their corresponding difficulty levels\n",
        "# Difficulty levels should be represented as decimal values in the range of 1-5\n",
        "\n",
        "# Define the maximum difficulty level (5) and the minimum difficulty level (1)\n",
        "MAX_DIFFICULTY = 5.0\n",
        "MIN_DIFFICULTY = 1.0\n",
        "\n",
        "# Converting the decimal difficulty levels to categorical variables\n",
        "def create_labels(difficulty_levels):\n",
        "    num_labels = int(MAX_DIFFICULTY - MIN_DIFFICULTY + 1)\n",
        "    labels = np.zeros((difficulty_levels.shape[0], num_labels))\n",
        "    for i, difficulty in enumerate(difficulty_levels):\n",
        "        label_index = int(difficulty - MIN_DIFFICULTY)\n",
        "        labels[i, label_index] = 1\n",
        "    return labels\n",
        "\n",
        "star_rating = np.array(star_rate)\n",
        "labelstar = create_labels(star_rating)\n",
        "print(labelstar[0])\n",
        "\n",
        "difficult = np.array(difficulty)\n",
        "labeldiff = create_labels(difficult)\n",
        "print(labelstar[0])\n",
        "print(labeldiff[0])\n"
      ],
      "metadata": {
        "colab": {
          "base_uri": "https://localhost:8080/"
        },
        "id": "iUwS40-_S48R",
        "outputId": "322dfd07-91d9-472f-cd00-5a0014474c4d"
      },
      "execution_count": null,
      "outputs": [
        {
          "output_type": "stream",
          "name": "stdout",
          "text": [
            "[0. 0. 0. 1. 0.]\n",
            "[0. 0. 0. 1. 0.]\n",
            "[0. 1. 0. 0. 0.]\n"
          ]
        }
      ]
    },
    {
      "cell_type": "markdown",
      "source": [
        "## **Model for predicting Quality**"
      ],
      "metadata": {
        "id": "EjCAhO8raxlh"
      }
    },
    {
      "cell_type": "code",
      "source": [
        "y = labelstar\n",
        "\n",
        "X_train, X_test, y_train, y_test = train_test_split(X, y, test_size=0.20, random_state=42)\n",
        "\n",
        "word_tokenizer = Tokenizer()\n",
        "word_tokenizer.fit_on_texts(X_train)\n",
        "\n",
        "X_train = word_tokenizer.texts_to_sequences(X_train)\n",
        "X_test = word_tokenizer.texts_to_sequences(X_test)"
      ],
      "metadata": {
        "id": "fxau-OoYTGJ_"
      },
      "execution_count": null,
      "outputs": []
    },
    {
      "cell_type": "code",
      "source": [
        "import io\n",
        "import json\n",
        "\n",
        "tokenizer_json = word_tokenizer.to_json()\n",
        "with io.open('b3_tokenizer.json', 'w', encoding='utf-8') as f:\n",
        "    f.write(json.dumps(tokenizer_json, ensure_ascii=False))\n",
        "vocab_length = len(word_tokenizer.word_index) + 1\n",
        "\n",
        "print(vocab_length)\n",
        "\n",
        "maxlen = 50"
      ],
      "metadata": {
        "colab": {
          "base_uri": "https://localhost:8080/"
        },
        "id": "9BvUE-k0TIkv",
        "outputId": "4d400e4a-81cd-45e7-c99e-afcfc28ac92d"
      },
      "execution_count": null,
      "outputs": [
        {
          "output_type": "stream",
          "name": "stdout",
          "text": [
            "59703\n"
          ]
        }
      ]
    },
    {
      "cell_type": "code",
      "source": [
        "X_train = pad_sequences(X_train, padding='post', maxlen=maxlen)\n",
        "X_test = pad_sequences(X_test, padding='post', maxlen=maxlen)"
      ],
      "metadata": {
        "id": "rFsRXufrTOpG"
      },
      "execution_count": null,
      "outputs": []
    },
    {
      "cell_type": "code",
      "source": [
        "from keras.layers import LSTM\n",
        "from keras.models import Sequential\n",
        "from keras.layers import Embedding, LSTM, Dense, RNN\n",
        "from keras.layers import SimpleRNNCell\n",
        "from tensorflow.keras.optimizers import Adam\n",
        "from keras.layers import Bidirectional\n",
        "from keras import regularizers\n",
        "from keras.models import Model\n",
        "from keras.layers import Input, Embedding, LSTM, Dense, Dropout\n",
        "from keras.layers import RepeatVector, TimeDistributed\n",
        "from keras.models import Model\n",
        "\n",
        "optimizer = Adam(learning_rate=0.001)\n",
        "\n",
        "lstm_model = Sequential()\n",
        "\n",
        "embedding_layer = Embedding(vocab_length, 100, weights=[embedding_matrix], input_length=maxlen, trainable=True)\n",
        "lstm_model.add(embedding_layer)\n",
        "\n",
        "lstm_model.add(LSTM(64, return_sequences=True, kernel_regularizer=regularizers.l2(0.01)))\n",
        "lstm_model.add(Dropout(0.2)) # Add dropout layer after the first LSTM layer\n",
        "\n",
        "lstm_model.add(LSTM(32, kernel_regularizer=regularizers.l2(0.01)))\n",
        "lstm_model.add(Dropout(0.2)) # Add dropout layer after the second LSTM layer\n",
        "\n",
        "# Add a Dense layer to output the probability distribution over the possible difficulty levels\n",
        "lstm_model.add(Dense(5, activation='softmax'))\n",
        "lstm_model.compile(loss='categorical_crossentropy', optimizer=optimizer, metrics=['acc'])"
      ],
      "metadata": {
        "id": "mneOBKpATTpi"
      },
      "execution_count": null,
      "outputs": []
    },
    {
      "cell_type": "code",
      "source": [
        "lstm_model_history = lstm_model.fit(X_train, y_train, batch_size=128, epochs=10, verbose=1, validation_split=0.2, shuffle=True)"
      ],
      "metadata": {
        "colab": {
          "base_uri": "https://localhost:8080/"
        },
        "id": "WxE5VfGMTda7",
        "outputId": "e81c8f94-8ceb-4daa-fd95-0f79a033d625"
      },
      "execution_count": null,
      "outputs": [
        {
          "output_type": "stream",
          "name": "stdout",
          "text": [
            "Epoch 1/10\n",
            "234/234 [==============================] - 74s 295ms/step - loss: 1.8127 - acc: 0.4272 - val_loss: 1.2794 - val_acc: 0.4699\n",
            "Epoch 2/10\n",
            "234/234 [==============================] - 69s 294ms/step - loss: 1.2014 - acc: 0.4955 - val_loss: 1.2252 - val_acc: 0.4845\n",
            "Epoch 3/10\n",
            "234/234 [==============================] - 68s 291ms/step - loss: 1.0767 - acc: 0.5478 - val_loss: 1.2063 - val_acc: 0.4795\n",
            "Epoch 4/10\n",
            "234/234 [==============================] - 78s 333ms/step - loss: 0.9753 - acc: 0.6055 - val_loss: 1.2420 - val_acc: 0.5019\n",
            "Epoch 5/10\n",
            "234/234 [==============================] - 77s 329ms/step - loss: 0.8847 - acc: 0.6596 - val_loss: 1.2471 - val_acc: 0.5124\n",
            "Epoch 6/10\n",
            "234/234 [==============================] - 79s 335ms/step - loss: 0.8073 - acc: 0.6980 - val_loss: 1.2850 - val_acc: 0.4897\n",
            "Epoch 7/10\n",
            "234/234 [==============================] - 76s 323ms/step - loss: 0.7428 - acc: 0.7339 - val_loss: 1.3648 - val_acc: 0.4829\n",
            "Epoch 8/10\n",
            "234/234 [==============================] - 76s 325ms/step - loss: 0.6925 - acc: 0.7578 - val_loss: 1.5849 - val_acc: 0.4874\n",
            "Epoch 9/10\n",
            "234/234 [==============================] - 75s 321ms/step - loss: 0.6427 - acc: 0.7802 - val_loss: 1.5761 - val_acc: 0.4664\n",
            "Epoch 10/10\n",
            "234/234 [==============================] - 76s 323ms/step - loss: 0.6058 - acc: 0.7956 - val_loss: 1.6816 - val_acc: 0.4722\n"
          ]
        }
      ]
    },
    {
      "cell_type": "code",
      "source": [
        "score = lstm_model.evaluate(X_test, y_test, verbose=1)"
      ],
      "metadata": {
        "colab": {
          "base_uri": "https://localhost:8080/"
        },
        "id": "73zr79XuUZwG",
        "outputId": "580d8d08-ce94-414a-f4c9-83d2bd56e4b6"
      },
      "execution_count": null,
      "outputs": [
        {
          "output_type": "stream",
          "name": "stdout",
          "text": [
            "292/292 [==============================] - 7s 26ms/step - loss: 1.6665 - acc: 0.4775\n"
          ]
        }
      ]
    },
    {
      "cell_type": "code",
      "source": [
        "print(\"Test Score:\", score[0])\n",
        "print(\"Test Accuracy:\", score[1])"
      ],
      "metadata": {
        "colab": {
          "base_uri": "https://localhost:8080/"
        },
        "id": "Ua3xOvorUcnu",
        "outputId": "4b1d99c2-82d4-45d4-eee5-5960351d1702"
      },
      "execution_count": null,
      "outputs": [
        {
          "output_type": "stream",
          "name": "stdout",
          "text": [
            "Test Score: 1.6664955615997314\n",
            "Test Accuracy: 0.4775256812572479\n"
          ]
        }
      ]
    },
    {
      "cell_type": "code",
      "source": [
        "result = []\n",
        "\n",
        "for i in range(0,10):\n",
        "  xval = preprocess_text(sentences[i])\n",
        "  xval = word_tokenizer.texts_to_sequences([xval])\n",
        "  xval = pad_sequences(xval, padding='post', maxlen=maxlen)\n",
        "  output_probs = lstm_model.predict(xval)\n",
        "  output_probs = np.argmax(output_probs[0]) + MIN_DIFFICULTY\n",
        "  result.append(str(star_rate[i]))\n",
        "  result.append(str(output_probs))\n",
        "\n",
        "print(\"ActualQuality\" +\" \" + \"PredictedQuality\")\n",
        "\n",
        "for i in range(0,len(result),2):\n",
        "  print(\"  \"+ result[i] +\"              \" + result[i+1])"
      ],
      "metadata": {
        "colab": {
          "base_uri": "https://localhost:8080/"
        },
        "id": "7VepXEEJX3jh",
        "outputId": "72412019-f39b-408e-81d6-40916f64b80d"
      },
      "execution_count": null,
      "outputs": [
        {
          "output_type": "stream",
          "name": "stdout",
          "text": [
            "1/1 [==============================] - 1s 940ms/step\n",
            "1/1 [==============================] - 0s 31ms/step\n",
            "1/1 [==============================] - 0s 32ms/step\n",
            "1/1 [==============================] - 0s 30ms/step\n",
            "1/1 [==============================] - 0s 35ms/step\n",
            "1/1 [==============================] - 0s 36ms/step\n",
            "1/1 [==============================] - 0s 32ms/step\n",
            "1/1 [==============================] - 0s 38ms/step\n",
            "1/1 [==============================] - 0s 37ms/step\n",
            "1/1 [==============================] - 0s 28ms/step\n",
            "ActualQuality PredictedQuality\n",
            "  4.0              4.0\n",
            "  4.0              2.0\n",
            "  5.0              5.0\n",
            "  4.5              4.0\n",
            "  4.0              5.0\n",
            "  5.0              5.0\n",
            "  2.5              3.0\n",
            "  5.0              5.0\n",
            "  5.0              4.0\n",
            "  5.0              5.0\n"
          ]
        }
      ]
    },
    {
      "cell_type": "markdown",
      "source": [
        "## **Model for predicting Difficulty**"
      ],
      "metadata": {
        "id": "KXvIAQR0apt1"
      }
    },
    {
      "cell_type": "code",
      "source": [
        "y = labeldiff\n",
        "\n",
        "X_train, X_test, y_train, y_test = train_test_split(X, y, test_size=0.20, random_state=42)\n",
        "\n",
        "word_tokenizer = Tokenizer()\n",
        "word_tokenizer.fit_on_texts(X_train)\n",
        "\n",
        "X_train = word_tokenizer.texts_to_sequences(X_train)\n",
        "X_test = word_tokenizer.texts_to_sequences(X_test)"
      ],
      "metadata": {
        "id": "tJ2AcpdxUhIp"
      },
      "execution_count": null,
      "outputs": []
    },
    {
      "cell_type": "code",
      "source": [
        "import io\n",
        "import json\n",
        "\n",
        "tokenizer_json = word_tokenizer.to_json()\n",
        "with io.open('b3_tokenizer.json', 'w', encoding='utf-8') as f:\n",
        "    f.write(json.dumps(tokenizer_json, ensure_ascii=False))\n",
        "vocab_length = len(word_tokenizer.word_index) + 1\n",
        "\n",
        "print(vocab_length)\n",
        "\n",
        "maxlen = 50"
      ],
      "metadata": {
        "colab": {
          "base_uri": "https://localhost:8080/"
        },
        "id": "GfsGFMRyUxuQ",
        "outputId": "df9123e7-5d57-4abc-db62-8cc282501fe8"
      },
      "execution_count": null,
      "outputs": [
        {
          "output_type": "stream",
          "name": "stdout",
          "text": [
            "59703\n"
          ]
        }
      ]
    },
    {
      "cell_type": "code",
      "source": [
        "X_train = pad_sequences(X_train, padding='post', maxlen=maxlen)\n",
        "X_test = pad_sequences(X_test, padding='post', maxlen=maxlen)"
      ],
      "metadata": {
        "id": "J7SAuuqFUzTI"
      },
      "execution_count": null,
      "outputs": []
    },
    {
      "cell_type": "code",
      "source": [
        "from keras.layers import LSTM\n",
        "from keras.models import Sequential\n",
        "from keras.layers import Embedding, LSTM, Dense, RNN\n",
        "from keras.layers import SimpleRNNCell\n",
        "from tensorflow.keras.optimizers import Adam\n",
        "from keras.layers import Bidirectional\n",
        "from keras import regularizers\n",
        "from keras.models import Model\n",
        "from keras.layers import Input, Embedding, LSTM, Dense, Dropout\n",
        "from keras.layers import RepeatVector, TimeDistributed\n",
        "from keras.models import Model\n",
        "\n",
        "optimizer = Adam(learning_rate=0.001)\n",
        "\n",
        "lstm_model = Sequential()\n",
        "\n",
        "embedding_layer = Embedding(vocab_length, 100, weights=[embedding_matrix], input_length=maxlen, trainable=True)\n",
        "lstm_model.add(embedding_layer)\n",
        "\n",
        "lstm_model.add(LSTM(64, return_sequences=True, kernel_regularizer=regularizers.l2(0.01)))\n",
        "lstm_model.add(Dropout(0.2)) # Add dropout layer after the first LSTM layer\n",
        "\n",
        "lstm_model.add(LSTM(32, kernel_regularizer=regularizers.l2(0.01)))\n",
        "lstm_model.add(Dropout(0.2)) # Add dropout layer after the second LSTM layer\n",
        "\n",
        "# Add a Dense layer to output the probability distribution over the possible difficulty levels\n",
        "lstm_model.add(Dense(5, activation='softmax'))\n",
        "lstm_model.compile(loss='categorical_crossentropy', optimizer=optimizer, metrics=['acc'])"
      ],
      "metadata": {
        "id": "ck57YoVVU20Z"
      },
      "execution_count": null,
      "outputs": []
    },
    {
      "cell_type": "code",
      "source": [
        "lstm_model_history = lstm_model.fit(X_train, y_train, batch_size=128, epochs=10, verbose=1, validation_split=0.2, shuffle=True)"
      ],
      "metadata": {
        "colab": {
          "base_uri": "https://localhost:8080/"
        },
        "id": "GDuv_f1LU7R6",
        "outputId": "e67b2b4b-324c-436f-b799-bac380ebe51f"
      },
      "execution_count": null,
      "outputs": [
        {
          "output_type": "stream",
          "name": "stdout",
          "text": [
            "Epoch 1/10\n",
            "234/234 [==============================] - 85s 343ms/step - loss: 2.0022 - acc: 0.2851 - val_loss: 1.5481 - val_acc: 0.2669\n",
            "Epoch 2/10\n",
            "234/234 [==============================] - 74s 317ms/step - loss: 1.4745 - acc: 0.3508 - val_loss: 1.4694 - val_acc: 0.3487\n",
            "Epoch 3/10\n",
            "234/234 [==============================] - 80s 344ms/step - loss: 1.3433 - acc: 0.4342 - val_loss: 1.4615 - val_acc: 0.3617\n",
            "Epoch 4/10\n",
            "234/234 [==============================] - 74s 315ms/step - loss: 1.1767 - acc: 0.5315 - val_loss: 1.5158 - val_acc: 0.3915\n",
            "Epoch 5/10\n",
            "234/234 [==============================] - 75s 322ms/step - loss: 1.0074 - acc: 0.6202 - val_loss: 1.5963 - val_acc: 0.3953\n",
            "Epoch 6/10\n",
            "234/234 [==============================] - 74s 314ms/step - loss: 0.8546 - acc: 0.6909 - val_loss: 1.7272 - val_acc: 0.3874\n",
            "Epoch 7/10\n",
            "234/234 [==============================] - 70s 298ms/step - loss: 0.7531 - acc: 0.7317 - val_loss: 1.8238 - val_acc: 0.3923\n",
            "Epoch 8/10\n",
            "234/234 [==============================] - 71s 302ms/step - loss: 0.6784 - acc: 0.7599 - val_loss: 2.0539 - val_acc: 0.3764\n",
            "Epoch 9/10\n",
            "234/234 [==============================] - 69s 295ms/step - loss: 0.6306 - acc: 0.7733 - val_loss: 2.1191 - val_acc: 0.3744\n",
            "Epoch 10/10\n",
            "234/234 [==============================] - 70s 301ms/step - loss: 0.5958 - acc: 0.7883 - val_loss: 2.2082 - val_acc: 0.3882\n"
          ]
        }
      ]
    },
    {
      "cell_type": "code",
      "source": [
        "score = lstm_model.evaluate(X_test, y_test, verbose=1)"
      ],
      "metadata": {
        "colab": {
          "base_uri": "https://localhost:8080/"
        },
        "id": "3wOSgnb1V0Ne",
        "outputId": "d964f22c-dc7e-4277-bfd8-65f4dfbd7a59"
      },
      "execution_count": null,
      "outputs": [
        {
          "output_type": "stream",
          "name": "stdout",
          "text": [
            "292/292 [==============================] - 6s 19ms/step - loss: 2.2049 - acc: 0.3842\n"
          ]
        }
      ]
    },
    {
      "cell_type": "code",
      "source": [
        "print(\"Test Score:\", score[0])\n",
        "print(\"Test Accuracy:\", score[1])"
      ],
      "metadata": {
        "colab": {
          "base_uri": "https://localhost:8080/"
        },
        "id": "yVbjb-YcV3uB",
        "outputId": "34d0e9f0-23cf-4236-c326-bc9369dbb19b"
      },
      "execution_count": null,
      "outputs": [
        {
          "output_type": "stream",
          "name": "stdout",
          "text": [
            "Test Score: 2.2049195766448975\n",
            "Test Accuracy: 0.3842037618160248\n"
          ]
        }
      ]
    },
    {
      "cell_type": "code",
      "source": [
        "result = []\n",
        "\n",
        "for i in range(0,10):\n",
        "  xval = preprocess_text(sentences[i])\n",
        "  xval = word_tokenizer.texts_to_sequences([xval])\n",
        "  xval = pad_sequences(xval, padding='post', maxlen=maxlen)\n",
        "  output_probs = lstm_model.predict(xval)\n",
        "  output_probs = np.argmax(output_probs[0]) + MIN_DIFFICULTY\n",
        "  result.append(str(difficulty[i]))\n",
        "  result.append(str(output_probs))\n",
        "\n",
        "print(\"ActualDifficulty\" +\" \" + \"PredictedDifficulty\")\n",
        "\n",
        "for i in range(0,len(result),2):\n",
        "  print(\"  \"+ result[i] +\"              \" + result[i+1])"
      ],
      "metadata": {
        "colab": {
          "base_uri": "https://localhost:8080/"
        },
        "id": "WhgKnWTgWb1D",
        "outputId": "9f331d42-77a7-488e-c59b-f5eadab3541b"
      },
      "execution_count": null,
      "outputs": [
        {
          "output_type": "stream",
          "name": "stdout",
          "text": [
            "1/1 [==============================] - 1s 1s/step\n",
            "1/1 [==============================] - 0s 42ms/step\n",
            "1/1 [==============================] - 0s 39ms/step\n",
            "1/1 [==============================] - 0s 38ms/step\n",
            "1/1 [==============================] - 0s 40ms/step\n",
            "1/1 [==============================] - 0s 38ms/step\n",
            "1/1 [==============================] - 0s 39ms/step\n",
            "1/1 [==============================] - 0s 43ms/step\n",
            "1/1 [==============================] - 0s 41ms/step\n",
            "1/1 [==============================] - 0s 40ms/step\n",
            "ActualDifficulty PredictedDifficulty\n",
            "  2.0              2.0\n",
            "  1.0              1.0\n",
            "  1.0              1.0\n",
            "  5.0              5.0\n",
            "  1.0              4.0\n",
            "  4.0              1.0\n",
            "  5.0              5.0\n",
            "  1.0              3.0\n",
            "  1.0              1.0\n",
            "  2.0              2.0\n"
          ]
        }
      ]
    }
  ]
}